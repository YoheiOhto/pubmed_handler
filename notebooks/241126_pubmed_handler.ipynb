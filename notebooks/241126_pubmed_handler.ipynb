{
 "cells": [
  {
   "cell_type": "code",
   "execution_count": 1,
   "metadata": {},
   "outputs": [
    {
     "data": {
      "text/plain": [
       "'\\n * @ Author: Yohei Ohto\\n * @ Create Time: 2024-11-26 17:36:55\\n * @ Modified time: 2024-11-26 18:33:40\\n * @ Description: ftpでDLしたPubMedのデータを.dbに加工する\\n '"
      ]
     },
     "execution_count": 1,
     "metadata": {},
     "output_type": "execute_result"
    }
   ],
   "source": [
    "'''\n",
    " * @ Author: Yohei Ohto\n",
    " * @ Create Time: 2024-11-26 17:36:55\n",
    " * @ Modified time: 2024-11-26 18:33:40\n",
    " * @ Description: ftpでDLしたPubMedのデータを.dbに加工する\n",
    " '''"
   ]
  },
  {
   "cell_type": "code",
   "execution_count": 2,
   "metadata": {},
   "outputs": [],
   "source": [
    "import xml.etree.ElementTree as ET\n",
    "import sqlite3"
   ]
  },
  {
   "cell_type": "code",
   "execution_count": 3,
   "metadata": {},
   "outputs": [],
   "source": [
    "tree = ET.parse(f\"/workspace/HDD_ohto/01-DATA/pubmed_22/PubMed/pubmed22n0001.xml\")\n",
    "root = tree.getroot()"
   ]
  },
  {
   "cell_type": "markdown",
   "metadata": {},
   "source": [
    "# 階層構造を可視化する\n",
    "何が入っているかを確認し、エレメントの詳細を確認する  \n",
    "各エレメントの紹介は以下のページに存在  \n",
    "https://wayback.archive-it.org/org-350/20240220194809/https://www.nlm.nih.gov/bsd/licensee/elements_descriptions.html"
   ]
  },
  {
   "cell_type": "markdown",
   "metadata": {},
   "source": [
    "## other abstは一旦含まない。"
   ]
  },
  {
   "cell_type": "markdown",
   "metadata": {},
   "source": [
    "## TRANCTUATEDのデータは省略したという文言のみを削除して使用\n",
    "ABSTRACT TRUNCATED AT 250 WORDS  \n",
    "ABSTRACT TRUNCATED AT 400 WORDS  \n",
    "ABSTRACT TRUNCATED (このメッセージは、1996 年に最大長が 4,096 文字に引き上げられてから、まれに表示されました。)  \n",
    "2000 年以降に作成されたレコードの要約の最大長は 10,000 文字です  \n",
    "→ 古い記事だから学習に使用しないもあり\n",
    "\n",
    "## AbstTextが複数ある場合 (Abstが章立てされているなどの場合)は一つの文字列にする"
   ]
  },
  {
   "cell_type": "markdown",
   "metadata": {},
   "source": [
    "# PMIDはおそらくすべての記事(Abstのない記事)にも存在している → 全てのPMIDを取ってきて、Abstractは欠損値を許可する\n",
    "abstが英語であるかの判定を入れる　→ 参考　https://qiita.com/yuichi0625/items/c5ffd6f45a7cf30c9477"
   ]
  },
  {
   "cell_type": "code",
   "execution_count": 8,
   "metadata": {},
   "outputs": [],
   "source": [
    "import ftlangdetect\n",
    "\n",
    "def identify_eng_by_fasttext(data: str) -> str:\n",
    "    if ftlangdetect.detect(data, low_memory=False)['lang'] == \"en\":\n",
    "        result = 1 \n",
    "    else:\n",
    "        result = 0\n",
    "    return result"
   ]
  },
  {
   "cell_type": "code",
   "execution_count": 36,
   "metadata": {},
   "outputs": [
    {
     "name": "stderr",
     "output_type": "stream",
     "text": [
      "  0%|          | 141/30000 [00:00<00:21, 1409.33it/s]"
     ]
    },
    {
     "name": "stderr",
     "output_type": "stream",
     "text": [
      "100%|██████████| 30000/30000 [00:02<00:00, 10364.02it/s]\n"
     ]
    }
   ],
   "source": [
    "pmids = []\n",
    "absts = []\n",
    "abst_eng = []\n",
    "\n",
    "for article in tqdm(root):\n",
    "    abst_text = \"\"\n",
    "    for citation in article:\n",
    "        for round3 in citation:\n",
    "            if round3.tag == \"PMID\":\n",
    "                pmid = int(round3.text)\n",
    "            if round3.tag == \"Article\":\n",
    "                for round4 in round3:\n",
    "                    if round4.tag == \"Abstract\":\n",
    "                        for round5 in round4:\n",
    "                            if round5.tag == \"AbstractText\":\n",
    "                                text = str(round5.text)\n",
    "                                text.replace('(ABSTRACT TRUNCATED AT 250 WORDS)', '').replace('(ABSTRACT TRUNCATED AT 400 WORDS)', '').replace('(ABSTRACT TRUNCATED)', '')\n",
    "                                abst_text += (text + \" \") \n",
    "    if pmid != None:\n",
    "        pmids.append(pmid)\n",
    "        if abst_text != \"\":\n",
    "            absts.append(abst_text.rstrip(\" \"))\n",
    "            abst_eng.append(identify_eng_by_fasttext(abst_text))\n",
    "        else:\n",
    "            absts.append(\"\")\n",
    "            abst_eng.append(0)"
   ]
  },
  {
   "cell_type": "markdown",
   "metadata": {},
   "source": [
    "# その他の必要そうな情報もまとめておく\n",
    "著者名は人数のばらつきが大きそうで、欠損値が多くなりそうなので一旦なし  \n",
    "other abstも一旦なし  \n",
    "  \n",
    "基本的にjournalの情報がメインになっている"
   ]
  },
  {
   "cell_type": "code",
   "execution_count": 32,
   "metadata": {},
   "outputs": [],
   "source": [
    "import datetime\n",
    "from tqdm import tqdm"
   ]
  },
  {
   "cell_type": "code",
   "execution_count": 34,
   "metadata": {},
   "outputs": [
    {
     "name": "stderr",
     "output_type": "stream",
     "text": [
      "  0%|          | 0/30000 [00:00<?, ?it/s]"
     ]
    },
    {
     "name": "stderr",
     "output_type": "stream",
     "text": [
      "100%|██████████| 30000/30000 [00:00<00:00, 33041.06it/s]\n"
     ]
    }
   ],
   "source": [
    "issns = []\n",
    "title_as = []\n",
    "title_js = []\n",
    "years = []\n",
    "months = []\n",
    "for article in tqdm(root):\n",
    "    issn = \"\"\n",
    "    title_j = \"\"\n",
    "    year = 0\n",
    "    month = 0\n",
    "    title_a = \"\"\n",
    "    \n",
    "    for citation in article:\n",
    "        for round3 in citation:\n",
    "            if round3.tag == \"Article\":\n",
    "                for round4 in round3:\n",
    "                    if round4.tag == \"Journal\":\n",
    "                        for round5 in round4:\n",
    "                            if round5.tag == \"ISSN\":\n",
    "                                issn = round5.text\n",
    "                            if round5.tag == \"Title\":\n",
    "                                title_j = round5.text\n",
    "                            if round5.tag == \"JournalIssue\":\n",
    "                                for round6 in round5:\n",
    "                                    if round6.tag == \"PubDate\":\n",
    "                                        for round7 in round6:\n",
    "                                            if round7.tag == \"Year\":\n",
    "                                                year = int(round7.text)\n",
    "                                            if round7.tag == \"Month\":\n",
    "                                                month = round7.text\n",
    "                                                try:\n",
    "                                                    month = int(month)\n",
    "                                                except:\n",
    "                                                    month = int(datetime.datetime.strptime(month, \"%b\").month)\n",
    "\n",
    "                    if round4.tag == \"ArticleTitle\":\n",
    "                        title_a = round4.text\n",
    "    \n",
    "    issns.append(issn)\n",
    "    title_as.append(title_a)\n",
    "    title_js.append(title_j)\n",
    "    years.append(year)\n",
    "    months.append(month)"
   ]
  },
  {
   "cell_type": "markdown",
   "metadata": {},
   "source": [
    "# 上の二つをまとめ、すべてのファイルで実行する"
   ]
  },
  {
   "cell_type": "code",
   "execution_count": 40,
   "metadata": {},
   "outputs": [],
   "source": [
    "import glob"
   ]
  },
  {
   "cell_type": "code",
   "execution_count": 42,
   "metadata": {},
   "outputs": [
    {
     "name": "stdout",
     "output_type": "stream",
     "text": [
      "1114\n"
     ]
    }
   ],
   "source": [
    "paths = glob.glob(\"/workspace/HDD_ohto/01-DATA/pubmed_22/PubMed/*.xml\")\n",
    "print(len(paths))"
   ]
  },
  {
   "cell_type": "code",
   "execution_count": null,
   "metadata": {},
   "outputs": [
    {
     "name": "stderr",
     "output_type": "stream",
     "text": [
      "  1%|          | 8/1114 [04:44<10:26:59, 34.01s/it]Exception ignored in: <bound method IPythonKernel._clean_thread_parent_frames of <ipykernel.ipkernel.IPythonKernel object at 0x7ce11ad7c130>>\n",
      "Traceback (most recent call last):\n",
      "  File \"/opt/pip-env/lib/python3.10/site-packages/ipykernel/ipkernel.py\", line 775, in _clean_thread_parent_frames\n",
      "    def _clean_thread_parent_frames(\n",
      "KeyboardInterrupt: \n",
      "100%|██████████| 1114/1114 [21:44:03<00:00, 70.24s/it]   \n"
     ]
    }
   ],
   "source": [
    "issns = []\n",
    "title_as = []\n",
    "title_js = []\n",
    "years = []\n",
    "months = []\n",
    "\n",
    "pmids = []\n",
    "absts = []\n",
    "abst_eng = []\n",
    "\n",
    "\n",
    "for path in tqdm(paths):\n",
    "    tree = ET.parse(path)\n",
    "    root = tree.getroot()\n",
    "    \n",
    "    for article in root:\n",
    "        abst_text = \"\"\n",
    "        issn = \"\"\n",
    "        title_j = \"\"\n",
    "        year = 0\n",
    "        month = 0\n",
    "        title_a = \"\"\n",
    "\n",
    "        for citation in article:\n",
    "            for round3 in citation:\n",
    "                if round3.tag == \"PMID\":\n",
    "                    pmid = int(round3.text)\n",
    "                if round3.tag == \"Article\":\n",
    "                    for round4 in round3:\n",
    "                        if round4.tag == \"ArticleTitle\":\n",
    "                            title_a = round4.text\n",
    "                        if round4.tag == \"Abstract\":\n",
    "                            for round5 in round4:\n",
    "                                if round5.tag == \"AbstractText\":\n",
    "                                    text = str(round5.text)\n",
    "                                    text.replace('(ABSTRACT TRUNCATED AT 250 WORDS)', '').replace('(ABSTRACT TRUNCATED AT 400 WORDS)', '').replace('(ABSTRACT TRUNCATED)', '')\n",
    "                                    abst_text += (text + \" \")\n",
    "                        if round4.tag == \"Journal\":\n",
    "                            for round5 in round4:\n",
    "                                if round5.tag == \"ISSN\":\n",
    "                                    issn = round5.text\n",
    "                                if round5.tag == \"Title\":\n",
    "                                    title_j = round5.text\n",
    "                                if round5.tag == \"JournalIssue\":\n",
    "                                    for round6 in round5:\n",
    "                                        if round6.tag == \"PubDate\":\n",
    "                                            for round7 in round6:\n",
    "                                                if round7.tag == \"Year\":\n",
    "                                                    year = int(round7.text)\n",
    "                                                if round7.tag == \"Month\":\n",
    "                                                    month = round7.text\n",
    "                                                    try:\n",
    "                                                        month = int(month)\n",
    "                                                    except:\n",
    "                                                        month = int(datetime.datetime.strptime(month, \"%b\").month)\n",
    "        if pmid != None:\n",
    "            pmids.append(pmid)\n",
    "            if abst_text != \"\":\n",
    "                abst_text = abst_text.rstrip(\" \").replace(\"\\n\", \"\")\n",
    "                absts.append(abst_text)\n",
    "                abst_eng.append(identify_eng_by_fasttext(abst_text))\n",
    "            else:\n",
    "                absts.append(\"\")\n",
    "                abst_eng.append(0)\n",
    "            issns.append(issn)\n",
    "            title_as.append(title_a)\n",
    "            title_js.append(title_j)\n",
    "            years.append(year)\n",
    "            months.append(month)"
   ]
  },
  {
   "cell_type": "code",
   "execution_count": 57,
   "metadata": {},
   "outputs": [],
   "source": [
    "# 一旦保存する\n",
    "import csv\n",
    "output_file = \"data/processed/241127_pubbmed_extracted.tsv\"\n",
    "\n",
    "with open(output_file, mode=\"a\", newline=\"\", encoding=\"utf-8\") as file:\n",
    "    writer = csv.writer(file, delimiter=\"\\t\")\n",
    "    writer.writerow([\"PMID\", \"TITLE\", \"ABST\", \"ABST_ENG\", \"JOURNAL\", \"ISSN\", \"PUB_YEAR\", \"PUB_MONTH\"])"
   ]
  },
  {
   "cell_type": "code",
   "execution_count": 60,
   "metadata": {},
   "outputs": [
    {
     "name": "stderr",
     "output_type": "stream",
     "text": [
      "100%|██████████| 33405863/33405863 [51:53<00:00, 10727.85it/s] \n"
     ]
    }
   ],
   "source": [
    "for i in tqdm(range(len(pmids))):\n",
    "    row = [pmids[i], title_as[i], absts[i], abst_eng[i], title_js[i], issns[i], years[i], months[i]]\n",
    "    with open(output_file, mode=\"a\", newline=\"\", encoding=\"utf-8\") as file:\n",
    "        writer = csv.writer(file, delimiter=\"\\t\")\n",
    "        writer.writerow(row)"
   ]
  },
  {
   "cell_type": "markdown",
   "metadata": {},
   "source": [
    "pmid 20029614のように一つの論文に対して複数のAbstが存在する場合には、最終版を使用する。"
   ]
  },
  {
   "cell_type": "code",
   "execution_count": null,
   "metadata": {},
   "outputs": [],
   "source": []
  }
 ],
 "metadata": {
  "kernelspec": {
   "display_name": "pip-env",
   "language": "python",
   "name": "python3"
  },
  "language_info": {
   "codemirror_mode": {
    "name": "ipython",
    "version": 3
   },
   "file_extension": ".py",
   "mimetype": "text/x-python",
   "name": "python",
   "nbconvert_exporter": "python",
   "pygments_lexer": "ipython3",
   "version": "3.10.9"
  }
 },
 "nbformat": 4,
 "nbformat_minor": 2
}
