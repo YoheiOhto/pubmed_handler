{
 "cells": [
  {
   "cell_type": "markdown",
   "metadata": {},
   "source": [
    " * @ Author: Yohei Ohto\n",
    " * @ Create Time: 2024-11-27 12:45:25\n",
    " * @ Modified time: 2024-11-27 12:45:38\n",
    " * @ Description:"
   ]
  },
  {
   "cell_type": "markdown",
   "metadata": {},
   "source": [
    "# ncbiのftpからファイルをダウンロードする\n",
    "リンク : https://ftp.ncbi.nlm.nih.gov/  \n",
    "  \n",
    "Pubmedのデータは年一更新されており、それの日々のupdateが別のファイルに保存されている。  \n",
    "年一更新のデータ : https://ftp.ncbi.nlm.nih.gov/pubmed/baseline/  \n",
    "それ以降毎日更新されているデータ : https://ftp.ncbi.nlm.nih.gov/pubmed/updatefiles/  "
   ]
  },
  {
   "cell_type": "code",
   "execution_count": 35,
   "metadata": {},
   "outputs": [
    {
     "name": "stdout",
     "output_type": "stream",
     "text": [
      "['bioproject', 'hmm', 'osiris', 'refseq', 'tpa', 'fa2htgs', 'pub', 'entrez', 'genbank', 'ncbi-asn1', 'gene', 'repository', 'cn3d', 'toolbox', 'rapt', 'sequin', 'blast', 'README.ftp', 'eqtl', 'seqc', 'sra', 'ReferenceSamples', 'robots.txt', 'giab', 'nist-immsa', 'comparative-genome-viewer', 'fufuter.html', 'sky-cgh', 'tech-reports', 'epigenomics', 'pubmed', 'snp', 'pathogen', 'mmdb', 'SampleData', 'bigwig', 'favicon.ico', 'biosample', 'hapmap', '1000genomes', 'variation', 'cgap', 'dbgap', 'genomes', 'asn1-converters', 'diffexpIR-notebook', 'pubchem', 'geo', '1GB', '10GB', '5GB', '50GB']\n"
     ]
    }
   ],
   "source": [
    "import ftplib\n",
    "from urllib.parse import urlparse\n",
    "\n",
    "parsed = urlparse('https://ftp.ncbi.nlm.nih.gov')\n",
    "ftp = ftplib.FTP(parsed.netloc)\n",
    "ftp.set_pasv('true')\n",
    "ftp.login(\"anonymous\", \"aaa\")\n",
    "\n",
    "file_list = ftp.nlst(\".\")\n",
    "print(file_list)"
   ]
  },
  {
   "cell_type": "code",
   "execution_count": 36,
   "metadata": {},
   "outputs": [
    {
     "name": "stdout",
     "output_type": "stream",
     "text": [
      "pubmed24n0002.xml.gz.md5\n"
     ]
    }
   ],
   "source": [
    "ftp.cwd('/pubmed/baseline')\n",
    "file_list = ftp.nlst(\".\")\n",
    "print(file_list[0])"
   ]
  },
  {
   "cell_type": "code",
   "execution_count": null,
   "metadata": {},
   "outputs": [],
   "source": [
    "mlsd = ftp.mlsd(\".\")  # generatorが返ってくる\n",
    "paths = []\n",
    "for i in mlsd:\n",
    "    if i[0] == '.' or i[0] == '..' or 'md5' in i[0]:\n",
    "        continue\n",
    "    paths.append(i[0])　# i[1]を指定することで、そのファイルのデータを取得することができる"
   ]
  },
  {
   "cell_type": "code",
   "execution_count": null,
   "metadata": {},
   "outputs": [],
   "source": [
    "from tqdm import tqdm\n",
    "import ftplib\n",
    "import time\n",
    "import os\n",
    "\n",
    "for i in tqdm(range(len(paths))):\n",
    "    parsed = urlparse('ftp://ftp.ncbi.nlm.nih.gov/')\n",
    "    ftp = ftplib.FTP(parsed.netloc)\n",
    "    ftp.set_pasv('true')\n",
    "    ftp.login(\"anonymous\", \"aaa\")\n",
    "    ftp.cwd(f'/pubmed/baseline')\n",
    "    path = pathes[i]\n",
    "    with open(f'../data/{path}', 'wb') as f:\n",
    "        ftp.retrbinary(f'RETR {path}', f.write)"
   ]
  },
  {
   "cell_type": "markdown",
   "metadata": {},
   "source": [
    "# gzファイルを解凍する"
   ]
  },
  {
   "cell_type": "code",
   "execution_count": null,
   "metadata": {},
   "outputs": [],
   "source": [
    "import glob\n",
    "import tarfile\n",
    "from tqdm import tqdm\n",
    "\n",
    "files = glob.glob(\"../data/*\")\n",
    "\n",
    "for i in tqdm(range(len(files))):\n",
    "    source_file = files[i]\n",
    "    with tarfile.open(source_file, 'r:gz') as tar:\n",
    "        tar.extractall()"
   ]
  }
 ],
 "metadata": {
  "kernelspec": {
   "display_name": "pip-env",
   "language": "python",
   "name": "python3"
  },
  "language_info": {
   "codemirror_mode": {
    "name": "ipython",
    "version": 3
   },
   "file_extension": ".py",
   "mimetype": "text/x-python",
   "name": "python",
   "nbconvert_exporter": "python",
   "pygments_lexer": "ipython3",
   "version": "3.10.9"
  }
 },
 "nbformat": 4,
 "nbformat_minor": 2
}
